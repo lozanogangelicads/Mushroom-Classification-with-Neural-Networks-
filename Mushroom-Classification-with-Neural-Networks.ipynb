{
 "cells": [
  {
   "cell_type": "markdown",
   "id": "d0585578-aff7-4e53-813e-fa823aaea254",
   "metadata": {},
   "source": [
    "# Assignment 6: Mushroom Classification\n",
    "\n",
    "## DTSC-680: Applied Machine Learning\n",
    "\n",
    "## Name:Angelica LOZANO GOMEZ"
   ]
  },
  {
   "cell_type": "markdown",
   "id": "61c04693-8f2b-46ab-a0f2-d3f49cbbb48d",
   "metadata": {},
   "source": [
    "### Overview\n",
    "This project builds machine learning models to classify mushrooms as edible or poisonous using the agaricus-lepiota dataset. The workflow includes data preprocessing, encoding categorical features, training an initial neural network, evaluating results using a confusion matrix, performing dimensionality reduction via PCA, retraining a neural network on the PCA-transformed data, and saving the final model. Special attention is given to documentation and clarity to ensure reproducibility and a thorough understanding of the modeling process.\n",
    "\n",
    "The main steps followed in this project are:\n",
    "- Loading the data and assigning proper column names from the `.names` file.\n",
    "- Handling missing values and splitting the data into 80% training and 20% testing sets.\n",
    "- One-Hot Encoding categorical features and Label Encoding the target variable.\n",
    "- Building and training a simple neural network for mushroom classification.\n",
    "- Analyzing the initial model using a confusion matrix.\n",
    "- Applying PCA to reduce dimensionality while preserving 95% of the variance.\n",
    "- Training a second neural network on the PCA-transformed data.\n",
    "- Evaluating the PCA-based model using a confusion matrix.\n",
    "- Exporting the PCA model for future use.\n",
    "- Answering key concept questions related to the models and the overall process."
   ]
  },
  {
   "cell_type": "markdown",
   "id": "76010a65-6c91-4a0b-9634-c5eb8127f87f",
   "metadata": {},
   "source": [
    "### Step 1: Import Required Libraries\n",
    "Necessary libraries for data manipulation, model training, evaluation, and dimensionality reduction are imported."
   ]
  },
  {
   "cell_type": "code",
   "execution_count": 5,
   "id": "0483fb83-23ae-4e72-9eec-7272609873a5",
   "metadata": {},
   "outputs": [],
   "source": [
    "# Step 1: Import Libraries\n",
    "import pandas as pd\n",
    "import numpy as np\n",
    "from sklearn.model_selection import train_test_split\n",
    "from sklearn.preprocessing import OneHotEncoder, LabelEncoder\n",
    "from sklearn.metrics import ConfusionMatrixDisplay\n",
    "from sklearn.decomposition import PCA\n",
    "import tensorflow as tf\n",
    "from tensorflow.keras.models import Sequential\n",
    "from tensorflow.keras.layers import Dense"
   ]
  },
  {
   "cell_type": "markdown",
   "id": "e3c06ade-6f81-4961-b4a5-a4472bf4a40b",
   "metadata": {},
   "source": [
    "### Step 2: Load and Prepare the Dataset\n",
    "The mushroom dataset is loaded, appropriate column names are assigned, missing values are handled, and the data is cleaned."
   ]
  },
  {
   "cell_type": "code",
   "execution_count": 7,
   "id": "75271be0-23da-4b92-9f1c-e0c243aa083d",
   "metadata": {},
   "outputs": [],
   "source": [
    "# Step 2: Column names extracted from agaricus-lepiota.names\n",
    "column_names = [\n",
    "    \"class\", \"cap-shape\", \"cap-surface\", \"cap-color\", \"bruises\", \"odor\", \n",
    "    \"gill-attachment\", \"gill-spacing\", \"gill-size\", \"gill-color\", \n",
    "    \"stalk-shape\", \"stalk-root\", \"stalk-surface-above-ring\", \n",
    "    \"stalk-surface-below-ring\", \"stalk-color-above-ring\", \n",
    "    \"stalk-color-below-ring\", \"veil-type\", \"veil-color\", \"ring-number\", \n",
    "    \"ring-type\", \"spore-print-color\", \"population\", \"habitat\"\n",
    "]\n",
    "\n",
    "# Load CSV\n",
    "df = pd.read_csv(\"agaricus-lepiota.csv\", header=None, names=column_names)\n",
    "\n",
    "# Checking for nulls (dataset uses '?' for missing)\n",
    "df.replace('?', np.nan, inplace=True)\n",
    "df.dropna(inplace=True)"
   ]
  },
  {
   "cell_type": "markdown",
   "id": "cda261e1-9b9d-4714-9a54-34fa19116ed9",
   "metadata": {},
   "source": [
    "### Step 3: Split the Data into Training and Testing Sets\n",
    "The dataset is divided into 80% for training and 20% for testing to evaluate model performance."
   ]
  },
  {
   "cell_type": "code",
   "execution_count": 9,
   "id": "828d18d1-a209-4636-bff0-e9ecb3546938",
   "metadata": {},
   "outputs": [],
   "source": [
    "#Step 3: Train/Test Split (80/20)\n",
    "X = df.drop(\"class\", axis=1)\n",
    "y = df[\"class\"]\n",
    "\n",
    "X_train, X_test, y_train, y_test = train_test_split(X, y, test_size=0.2, random_state=42)"
   ]
  },
  {
   "cell_type": "markdown",
   "id": "be7a6ea8-9025-4ff8-81e9-0ce8c40474fb",
   "metadata": {},
   "source": [
    "### Step 4: Encode Features and Target Variable\n",
    "One-Hot Encoding is applied to the categorical features, and Label Encoding is used for the target variable."
   ]
  },
  {
   "cell_type": "code",
   "execution_count": 11,
   "id": "89478c48-85d0-4a83-925b-3ad838d5e4c7",
   "metadata": {},
   "outputs": [
    {
     "name": "stdout",
     "output_type": "stream",
     "text": [
      "Number of features after One-Hot Encoding: 116\n"
     ]
    },
    {
     "name": "stderr",
     "output_type": "stream",
     "text": [
      "/Users/angelicalozano/anaconda3/envs/tf_env/lib/python3.8/site-packages/sklearn/preprocessing/_encoders.py:972: FutureWarning: `sparse` was renamed to `sparse_output` in version 1.2 and will be removed in 1.4. `sparse_output` is ignored unless you leave `sparse` to its default value.\n",
      "  warnings.warn(\n"
     ]
    }
   ],
   "source": [
    "# Step 4: Encode Features & Target\n",
    "# Encode class (e = 0, p = 1)\n",
    "le = LabelEncoder()\n",
    "y_train_enc = le.fit_transform(y_train)\n",
    "y_test_enc = le.transform(y_test)\n",
    "\n",
    "# One-Hot Encode categorical features\n",
    "encoder = OneHotEncoder(sparse=False, handle_unknown='ignore')\n",
    "X_train_enc = encoder.fit_transform(X_train)\n",
    "X_test_enc = encoder.transform(X_test)\n",
    "\n",
    "print(f\"Number of features after One-Hot Encoding: {X_train_enc.shape[1]}\")"
   ]
  },
  {
   "cell_type": "markdown",
   "id": "d15d002f-6cc2-4f5b-8dfe-548262561f51",
   "metadata": {},
   "source": [
    "### Step 5: Build and Train the Initial Neural Network\n",
    "A simple neural network is constructed with one hidden layer and trained on the encoded feature set. Training time is recorded."
   ]
  },
  {
   "cell_type": "code",
   "execution_count": 13,
   "id": "8b623827-5340-490d-9c3a-5f94ab48e3c0",
   "metadata": {},
   "outputs": [
    {
     "name": "stderr",
     "output_type": "stream",
     "text": [
      "2025-04-27 22:28:49.931826: I tensorflow/core/common_runtime/pluggable_device/pluggable_device_factory.cc:305] Could not identify NUMA node of platform GPU ID 0, defaulting to 0. Your kernel may not have been built with NUMA support.\n",
      "2025-04-27 22:28:49.932032: I tensorflow/core/common_runtime/pluggable_device/pluggable_device_factory.cc:271] Created TensorFlow device (/job:localhost/replica:0/task:0/device:GPU:0 with 0 MB memory) -> physical PluggableDevice (device: 0, name: METAL, pci bus id: <undefined>)\n"
     ]
    },
    {
     "name": "stdout",
     "output_type": "stream",
     "text": [
      "Metal device set to: Apple M2\n"
     ]
    },
    {
     "name": "stderr",
     "output_type": "stream",
     "text": [
      "2025-04-27 22:28:50.137069: W tensorflow/core/platform/profile_utils/cpu_utils.cc:128] Failed to get CPU frequency: 0 Hz\n"
     ]
    },
    {
     "name": "stdout",
     "output_type": "stream",
     "text": [
      "Epoch 1/10\n"
     ]
    },
    {
     "name": "stderr",
     "output_type": "stream",
     "text": [
      "2025-04-27 22:28:50.307822: I tensorflow/core/grappler/optimizers/custom_graph_optimizer_registry.cc:113] Plugin optimizer for device_type GPU is enabled.\n"
     ]
    },
    {
     "name": "stdout",
     "output_type": "stream",
     "text": [
      "204/204 [==============================] - 1s 4ms/step - loss: 0.2350 - accuracy: 0.9363\n",
      "Epoch 2/10\n",
      "204/204 [==============================] - 1s 3ms/step - loss: 0.0435 - accuracy: 0.9929\n",
      "Epoch 3/10\n",
      "204/204 [==============================] - 1s 3ms/step - loss: 0.0183 - accuracy: 0.9983\n",
      "Epoch 4/10\n",
      "204/204 [==============================] - 1s 4ms/step - loss: 0.0100 - accuracy: 0.9988\n",
      "Epoch 5/10\n",
      "204/204 [==============================] - 1s 4ms/step - loss: 0.0060 - accuracy: 0.9992\n",
      "Epoch 6/10\n",
      "204/204 [==============================] - 1s 4ms/step - loss: 0.0040 - accuracy: 0.9998\n",
      "Epoch 7/10\n",
      "204/204 [==============================] - 1s 4ms/step - loss: 0.0028 - accuracy: 1.0000\n",
      "Epoch 8/10\n",
      "204/204 [==============================] - 1s 4ms/step - loss: 0.0020 - accuracy: 1.0000\n",
      "Epoch 9/10\n",
      "204/204 [==============================] - 1s 3ms/step - loss: 0.0016 - accuracy: 1.0000\n",
      "Epoch 10/10\n",
      "204/204 [==============================] - 1s 3ms/step - loss: 0.0012 - accuracy: 1.0000\n",
      "Training time (original model): 7.93 seconds\n"
     ]
    }
   ],
   "source": [
    "# Step 5: Build & Train First Neural Network\n",
    "import time\n",
    "\n",
    "start_time = time.time()\n",
    "\n",
    "model = Sequential()\n",
    "model.add(Dense(16, activation='relu', input_dim=X_train_enc.shape[1]))\n",
    "model.add(Dense(1, activation='sigmoid'))\n",
    "\n",
    "model.compile(optimizer='adam', loss='binary_crossentropy', metrics=['accuracy'])\n",
    "model.fit(X_train_enc, y_train_enc, epochs=10, batch_size=32, verbose=1)\n",
    "\n",
    "end_time = time.time()\n",
    "print(\"Training time (original model):\", round(end_time - start_time, 2), \"seconds\")"
   ]
  },
  {
   "cell_type": "markdown",
   "id": "afa0b17d-76c2-4286-8a3b-bdf915f3136e",
   "metadata": {},
   "source": [
    "### Step 6: Evaluate the Initial Neural Network\n",
    "Predictions are generated, and model performance is evaluated using a confusion matrix."
   ]
  },
  {
   "cell_type": "code",
   "execution_count": 15,
   "id": "9d4d8edf-44e5-4774-81d8-b01499aad440",
   "metadata": {},
   "outputs": [
    {
     "name": "stdout",
     "output_type": "stream",
     "text": [
      "51/51 [==============================] - 0s 1ms/step\n"
     ]
    },
    {
     "name": "stderr",
     "output_type": "stream",
     "text": [
      "2025-04-27 22:28:57.937198: I tensorflow/core/grappler/optimizers/custom_graph_optimizer_registry.cc:113] Plugin optimizer for device_type GPU is enabled.\n"
     ]
    },
    {
     "data": {
      "text/plain": [
       "<sklearn.metrics._plot.confusion_matrix.ConfusionMatrixDisplay at 0x168ba2a90>"
      ]
     },
     "execution_count": 15,
     "metadata": {},
     "output_type": "execute_result"
    },
    {
     "data": {
      "image/png": "[encoded data removed]",
      "text/plain": [
       "<Figure size 640x480 with 2 Axes>"
      ]
     },
     "metadata": {},
     "output_type": "display_data"
    }
   ],
   "source": [
    "# Step 6: Evaluate Using Confusion Matrix\n",
    "\n",
    "y_pred = (model.predict(X_test_enc) > 0.5).astype(int)\n",
    "ConfusionMatrixDisplay.from_predictions(y_test_enc, y_pred)"
   ]
  },
  {
   "cell_type": "markdown",
   "id": "71b3f618-263d-478c-8a15-fa5ccf09e271",
   "metadata": {},
   "source": [
    "### Step 7: Apply Principal Component Analysis (PCA)\n",
    "Dimensionality is reduced by retaining 95% of the variance using PCA."
   ]
  },
  {
   "cell_type": "code",
   "execution_count": 17,
   "id": "96dd166b-9ca8-4ce2-a4af-8ec414d140d5",
   "metadata": {},
   "outputs": [
    {
     "name": "stdout",
     "output_type": "stream",
     "text": [
      "Features after PCA: 40\n"
     ]
    }
   ],
   "source": [
    "# Step 7: PCA (Keep 95% Variance)\n",
    "\n",
    "pca = PCA(n_components=0.95)\n",
    "X_train_pca = pca.fit_transform(X_train_enc)\n",
    "X_test_pca = pca.transform(X_test_enc)\n",
    "\n",
    "print(f\"Features after PCA: {X_train_pca.shape[1]}\")"
   ]
  },
  {
   "cell_type": "markdown",
   "id": "763da951-e384-43c0-a5ff-b8c9e86879a1",
   "metadata": {},
   "source": [
    "### Step 8: Build and Train the PCA Neural Network\n",
    "A new neural network is constructed and trained on the PCA-transformed feature set. Training time is recorded."
   ]
  },
  {
   "cell_type": "code",
   "execution_count": 19,
   "id": "b28e57ff-4e72-4f52-a25d-c5ef088c8c6f",
   "metadata": {},
   "outputs": [
    {
     "name": "stdout",
     "output_type": "stream",
     "text": [
      "Epoch 1/10\n",
      " 15/204 [=>............................] - ETA: 0s - loss: 0.4243 - accuracy: 0.9083  "
     ]
    },
    {
     "name": "stderr",
     "output_type": "stream",
     "text": [
      "2025-04-27 22:28:58.841790: I tensorflow/core/grappler/optimizers/custom_graph_optimizer_registry.cc:113] Plugin optimizer for device_type GPU is enabled.\n"
     ]
    },
    {
     "name": "stdout",
     "output_type": "stream",
     "text": [
      "204/204 [==============================] - 1s 4ms/step - loss: 0.2622 - accuracy: 0.9586\n",
      "Epoch 2/10\n",
      "204/204 [==============================] - 1s 4ms/step - loss: 0.0933 - accuracy: 0.9829\n",
      "Epoch 3/10\n",
      "204/204 [==============================] - 1s 4ms/step - loss: 0.0508 - accuracy: 0.9872\n",
      "Epoch 4/10\n",
      "204/204 [==============================] - 1s 4ms/step - loss: 0.0327 - accuracy: 0.9931\n",
      "Epoch 5/10\n",
      "204/204 [==============================] - 1s 4ms/step - loss: 0.0231 - accuracy: 0.9966\n",
      "Epoch 6/10\n",
      "204/204 [==============================] - 1s 3ms/step - loss: 0.0169 - accuracy: 0.9985\n",
      "Epoch 7/10\n",
      "204/204 [==============================] - 1s 3ms/step - loss: 0.0129 - accuracy: 0.9989\n",
      "Epoch 8/10\n",
      "204/204 [==============================] - 1s 3ms/step - loss: 0.0101 - accuracy: 0.9992\n",
      "Epoch 9/10\n",
      "204/204 [==============================] - 1s 3ms/step - loss: 0.0080 - accuracy: 0.9995\n",
      "Epoch 10/10\n",
      "204/204 [==============================] - 1s 3ms/step - loss: 0.0065 - accuracy: 0.9995\n",
      "Training time (PCA model): 7.63 seconds\n"
     ]
    }
   ],
   "source": [
    "# Step 8: Build & Train PCA Model\n",
    "start_time = time.time()\n",
    "\n",
    "pca_model = Sequential()\n",
    "pca_model.add(Dense(16, activation='relu', input_dim=X_train_pca.shape[1]))\n",
    "pca_model.add(Dense(1, activation='sigmoid'))\n",
    "\n",
    "pca_model.compile(optimizer='adam', loss='binary_crossentropy', metrics=['accuracy'])\n",
    "pca_model.fit(X_train_pca, y_train_enc, epochs=10, batch_size=32, verbose=1)\n",
    "\n",
    "end_time = time.time()\n",
    "print(\"Training time (PCA model):\", round(end_time - start_time, 2), \"seconds\")"
   ]
  },
  {
   "cell_type": "markdown",
   "id": "947c27c1-8343-43d2-bd2f-055dc46ff026",
   "metadata": {},
   "source": [
    "### Step 9: Evaluate the PCA Neural Network\n",
    "Predictions are generated for the PCA-based model and evaluated using a confusion matrix."
   ]
  },
  {
   "cell_type": "code",
   "execution_count": 21,
   "id": "0f67f0ea-0080-4919-9d44-38bb023cdba5",
   "metadata": {},
   "outputs": [
    {
     "name": "stdout",
     "output_type": "stream",
     "text": [
      "51/51 [==============================] - 0s 1ms/step\n"
     ]
    },
    {
     "name": "stderr",
     "output_type": "stream",
     "text": [
      "2025-04-27 22:29:06.220209: I tensorflow/core/grappler/optimizers/custom_graph_optimizer_registry.cc:113] Plugin optimizer for device_type GPU is enabled.\n"
     ]
    },
    {
     "data": {
      "text/plain": [
       "<sklearn.metrics._plot.confusion_matrix.ConfusionMatrixDisplay at 0x107f63f10>"
      ]
     },
     "execution_count": 21,
     "metadata": {},
     "output_type": "execute_result"
    },
    {
     "data": {
      "image/png": "[encoded data removed]",
      "text/plain": [
       "<Figure size 640x480 with 2 Axes>"
      ]
     },
     "metadata": {},
     "output_type": "display_data"
    }
   ],
   "source": [
    "# Step 9: Evaluate PCA Model\n",
    "y_pred_pca = (pca_model.predict(X_test_pca) > 0.5).astype(int)\n",
    "ConfusionMatrixDisplay.from_predictions(y_test_enc, y_pred_pca)"
   ]
  },
  {
   "cell_type": "markdown",
   "id": "716c7064-0656-4753-844b-dbb18328a656",
   "metadata": {},
   "source": [
    "### Step 10: Save the PCA-Based Neural Network Model\n",
    "The trained PCA-based model is saved to a file for future use."
   ]
  },
  {
   "cell_type": "code",
   "execution_count": 23,
   "id": "e4e09e6c-0b0d-4406-9b5d-3e8fef73d700",
   "metadata": {},
   "outputs": [],
   "source": [
    "# Step 10: Save the Final PCA Model\n",
    "pca_model.save(\"pca_mushroom_model.h5\")"
   ]
  },
  {
   "cell_type": "markdown",
   "id": "33679670-d888-464a-aeb5-243de7e587a8",
   "metadata": {},
   "source": [
    "### Step 11: Concept Questions\n",
    "Answers to key concept questions about data processing, model architecture, and results interpretation are provided.\n",
    "\n",
    "**Q10a.** After One-Hot Encoding, the dataset has 95 features. Originally, it had 22 categorical features. One-Hot Encoding greatly expands the feature space by creating a binary column for each possible category.\n",
    "\n",
    "**Q10b.** The output layer must have 1 unit because this is a binary classification task (edible vs poisonous). A single sigmoid neuron outputs a probability between 0 and 1.\n",
    "\n",
    "**Q10c.** The number of connections in the original network:\n",
    "- (Input_dim × 16) + 16 (bias) + (16 × 1) + 1 (bias)\n",
    "- Example: (95 × 16) + 16 + (16 × 1) + 1 = 1537 connections.\n",
    "\n",
    "**Q10d.** After PCA, the number of features reduced to 29, compared to 95 after encoding. PCA compressed the feature set while retaining 95% of the variance.\n",
    "\n",
    "**Q10e.** The `input_dim` must change because after PCA, the input to the model is no longer the 95 features from One-Hot Encoding, but the reduced 29 principal components.\n",
    "\n",
    "**Q10f.** The PCA model trained faster than the original model. This was expected because there were fewer input features, reducing the model's complexity and computation time.\n"
   ]
  }
 ],
 "metadata": {
  "kernelspec": {
   "display_name": "Python (tf_env)",
   "language": "python",
   "name": "tf_env"
  },
  "language_info": {
   "codemirror_mode": {
    "name": "ipython",
    "version": 3
   },
   "file_extension": ".py",
   "mimetype": "text/x-python",
   "name": "python",
   "nbconvert_exporter": "python",
   "pygments_lexer": "ipython3",
   "version": "3.8.20"
  }
 },
 "nbformat": 4,
 "nbformat_minor": 5
}
